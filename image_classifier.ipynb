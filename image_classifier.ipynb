{
 "cells": [
  {
   "cell_type": "markdown",
   "metadata": {
    "id": "UIHjJCB5HWa2"
   },
   "source": [
    "# image-classifier"
   ]
  },
  {
   "cell_type": "code",
   "execution_count": 1,
   "metadata": {},
   "outputs": [
    {
     "name": "stderr",
     "output_type": "stream",
     "text": [
      "using abcli-1.1.477-main, image_classifier-1.1.56\n",
      "2022-07-06-20-12-58-57931 - built on 07 July 2022, 11:04:56\n",
      "TensorFlow: 2.6.0\n",
      "0 GPU(s) available: [].\n"
     ]
    }
   ],
   "source": [
    "import os\n",
    "import tensorflow as tf\n",
    "import abcli\n",
    "from abcli import *\n",
    "from abcli import string\n",
    "from abcli.plugins import gpu\n",
    "import image_classifier\n",
    "from image_classifier.model import Image_Classifier\n",
    "\n",
    "from helper_functions import plot_loss_curves, compare_histories\n",
    "\n",
    "from abcli import logging\n",
    "import logging\n",
    "\n",
    "logger = logging.getLogger(__name__)\n",
    "\n",
    "logger.info(f\"using {abcli.fullname()}, {image_classifier.name}-{image_classifier.version}\")\n",
    "logger.info(f\"{os.environ.get('abcli_object_name')} - built on {string.pretty_date()}\")\n",
    "\n",
    "gpu.validate();"
   ]
  },
  {
   "cell_type": "code",
   "execution_count": 2,
   "metadata": {},
   "outputs": [],
   "source": [
    "validation = True\n",
    "\n",
    "input_object = os.path.join(os.getenv(\"abcli_object_root\"),\"ic_input_object_v2\")\n",
    "output_object = os.path.join(os.getenv(\"abcli_object_root\"),\"ic_output_object_v1\")\n",
    "\n",
    "if validation:\n",
    "    initial_epochs = 1\n",
    "    fine_tune_epochs = 1\n",
    "else:\n",
    "    initial_epochs = 5\n",
    "    fine_tune_epochs = 5"
   ]
  },
  {
   "cell_type": "code",
   "execution_count": 3,
   "metadata": {
    "id": "sdEB77yJxIJe"
   },
   "outputs": [
    {
     "name": "stderr",
     "output_type": "stream",
     "text": [
      "2022-07-07 11:04:56.387807: I tensorflow/core/platform/cpu_feature_guard.cc:142] This TensorFlow binary is optimized with oneAPI Deep Neural Network Library (oneDNN) to use the following CPU instructions in performance-critical operations:  SSE4.1 SSE4.2 AVX AVX2 FMA\n",
      "To enable them in other operations, rebuild TensorFlow with the appropriate compiler flags.\n"
     ]
    },
    {
     "name": "stdout",
     "output_type": "stream",
     "text": [
      "Model: \"model\"\n",
      "_________________________________________________________________\n",
      "Layer (type)                 Output Shape              Param #   \n",
      "=================================================================\n",
      "input_layer (InputLayer)     [(None, 224, 224, 3)]     0         \n",
      "_________________________________________________________________\n",
      "data_augmentation_layer (Seq (None, None, None, 3)     0         \n",
      "_________________________________________________________________\n",
      "efficientnetb0 (Functional)  (None, None, None, 1280)  4049571   \n",
      "_________________________________________________________________\n",
      "global_average_pooling_layer (None, 1280)              0         \n",
      "_________________________________________________________________\n",
      "output_layer (Dense)         (None, 15)                19215     \n",
      "=================================================================\n",
      "Total params: 4,068,786\n",
      "Trainable params: 19,215\n",
      "Non-trainable params: 4,049,571\n",
      "_________________________________________________________________\n",
      "None\n"
     ]
    }
   ],
   "source": [
    "classifier = Image_Classifier(input_object=input_object)"
   ]
  },
  {
   "cell_type": "code",
   "execution_count": 4,
   "metadata": {},
   "outputs": [
    {
     "name": "stdout",
     "output_type": "stream",
     "text": [
      "Found 4500 files belonging to 15 classes.\n",
      "Found 3000 files belonging to 15 classes.\n",
      "Found 3000 files belonging to 15 classes.\n"
     ]
    },
    {
     "name": "stderr",
     "output_type": "stream",
     "text": [
      "NumExpr defaulting to 8 threads.\n",
      "2022-07-07 11:05:02.503935: I tensorflow/compiler/mlir/mlir_graph_optimization_pass.cc:185] None of the MLIR Optimization Passes are enabled (registered 2)\n"
     ]
    },
    {
     "name": "stdout",
     "output_type": "stream",
     "text": [
      "141/141 [==============================] - 168s 1s/step - loss: 0.6856 - accuracy: 0.8751 - val_loss: 0.1779 - val_accuracy: 0.9747\n",
      "94/94 [==============================] - 68s 718ms/step - loss: 0.1909 - accuracy: 0.9740\n"
     ]
    },
    {
     "data": {
      "image/png": "[encoded data removed]",
      "text/plain": [
       "<Figure size 432x288 with 1 Axes>"
      ]
     },
     "metadata": {
      "needs_background": "light"
     },
     "output_type": "display_data"
    },
    {
     "data": {
      "image/png": "[encoded data removed]",
      "text/plain": [
       "<Figure size 432x288 with 1 Axes>"
      ]
     },
     "metadata": {
      "needs_background": "light"
     },
     "output_type": "display_data"
    }
   ],
   "source": [
    "classifier.fit(\n",
    "    epochs=initial_epochs,\n",
    "    input_object=input_object, \n",
    "    output_object=output_object,\n",
    "    train_set=\"train_30\")"
   ]
  },
  {
   "cell_type": "markdown",
   "metadata": {},
   "source": [
    "---"
   ]
  },
  {
   "cell_type": "markdown",
   "metadata": {
    "id": "F-G_rjj500OV"
   },
   "source": [
    "* model_1 gives great results with 99% accuracy on the full test dataset\n",
    "* model_1 only uses 30% of training data, we'll use the full training set once we fine tune the model\n",
    "\n",
    "Since model_1 has good performance we'll checkpoint it to create the fine tuned models to squeeze a little more out of our model"
   ]
  },
  {
   "cell_type": "markdown",
   "metadata": {
    "id": "veycdSxJ2wL1"
   },
   "source": [
    "## Model 2: Fine tuning\n"
   ]
  },
  {
   "cell_type": "code",
   "execution_count": null,
   "metadata": {
    "colab": {
     "base_uri": "https://localhost:8080/"
    },
    "id": "KO4qI_c23Fp-",
    "outputId": "e80a3e99-e749-4573-def1-829a1eb17404",
    "scrolled": false
   },
   "outputs": [],
   "source": [
    "# Load in the model\n",
    "model_2 = tf.keras.Model(inputs, outputs)\n",
    "model_2.load_weights(checkpoint_path)"
   ]
  },
  {
   "cell_type": "markdown",
   "metadata": {
    "id": "4iVQPGOI7pYf"
   },
   "source": [
    "### Unfreeze layers"
   ]
  },
  {
   "cell_type": "code",
   "execution_count": null,
   "metadata": {
    "id": "tN69Offy9vSv"
   },
   "outputs": [],
   "source": [
    "base_model.trainable = True\n",
    "\n",
    "# Freeze all layers except the last 10\n",
    "for layer in base_model.layers[:-10]:\n",
    "  layer.trainable = False\n",
    "\n",
    "# Recompile (We have to recompile our models every time we make a change)\n",
    "model_2.compile(\n",
    "  loss='categorical_crossentropy',\n",
    "  # When fine tuning, you typically want to lower the learning rate by 10X\n",
    "  optimizer=tf.keras.optimizers.Adam(0.0001),\n",
    "  metrics=['accuracy']\n",
    ")"
   ]
  },
  {
   "cell_type": "code",
   "execution_count": null,
   "metadata": {
    "id": "PMdbHOp3-I8X"
   },
   "outputs": [],
   "source": [
    "# Check which layers are trainable\n",
    "for layer_number, layer in enumerate(model_2.layers[2].layers):\n",
    "  print(layer_number, layer.name, layer.trainable)"
   ]
  },
  {
   "cell_type": "markdown",
   "metadata": {
    "id": "6PM3I3CO_6hD"
   },
   "source": [
    "## Fit the model"
   ]
  },
  {
   "cell_type": "code",
   "execution_count": null,
   "metadata": {
    "colab": {
     "base_uri": "https://localhost:8080/",
     "height": 721
    },
    "id": "n8NjAl2nAV1S",
    "outputId": "203068ea-4966-4db3-e92d-52bcd73c7e8d"
   },
   "outputs": [],
   "source": [
    "\n",
    "fine_tuned_epochs = initial_epochs + fine_tune_epochs\n",
    "\n",
    "history_2 = model_2.fit(\n",
    "    test_data,\n",
    "    epochs=fine_tuned_epochs,\n",
    "    steps_per_epoch=len(test_data),\n",
    "    validation_data=validation_data,\n",
    "    validation_steps = len(validation_data),\n",
    "    initial_epoch=history_1.epoch[-1]\n",
    ")\n",
    "\n",
    "compare_histories(history_1, history_2, initial_epochs)"
   ]
  },
  {
   "cell_type": "code",
   "execution_count": null,
   "metadata": {
    "colab": {
     "base_uri": "https://localhost:8080/"
    },
    "id": "Z8EAXvZmAZ-e",
    "outputId": "ad9774ec-f256-44ca-d411-6e87cda46e93"
   },
   "outputs": [],
   "source": [
    "model_2_results = model_2.evaluate(test_data)"
   ]
  },
  {
   "cell_type": "code",
   "execution_count": null,
   "metadata": {
    "colab": {
     "base_uri": "https://localhost:8080/"
    },
    "id": "ksBL_ZSLBp3r",
    "outputId": "a3f22e49-fa20-44e3-bfeb-c579f479ccaa"
   },
   "outputs": [],
   "source": [
    "model_1_results, model_2_results"
   ]
  },
  {
   "cell_type": "markdown",
   "metadata": {
    "id": "Av4urVJeBwFh"
   },
   "source": [
    "* unfreezing some layers gave us a higher percentage although it's already high from model_1\n",
    "\n",
    "lets try one more time and we'll unfreeze more layers (30)"
   ]
  },
  {
   "cell_type": "markdown",
   "metadata": {
    "id": "AvclBeX6CBZq"
   },
   "source": [
    "## Model 3: Unfreeze more layers"
   ]
  },
  {
   "cell_type": "code",
   "execution_count": null,
   "metadata": {
    "colab": {
     "base_uri": "https://localhost:8080/"
    },
    "id": "s39TxnK9CEW2",
    "outputId": "71d6772c-2e70-4814-b82a-6a72bf4b2885"
   },
   "outputs": [],
   "source": [
    "model_3 = tf.keras.Model(inputs, outputs)\n",
    "model_3.load_weights(checkpoint_path)"
   ]
  },
  {
   "cell_type": "code",
   "execution_count": null,
   "metadata": {
    "id": "gWvqCwmqCNcz"
   },
   "outputs": [],
   "source": [
    "base_model.trainable = True\n",
    "\n",
    "# Freeze all layers except the last 30\n",
    "for layer in base_model.layers[:-30]:\n",
    "  layer.trainable = False\n",
    "\n",
    "\n",
    "# Recompile (We have to recompile our models every time we make a change)\n",
    "model_3.compile(\n",
    "  loss='categorical_crossentropy',\n",
    "  # When fine tuning, you typically want to lower the learning rate by 10X\n",
    "  optimizer=tf.keras.optimizers.Adam(0.0001),\n",
    "  metrics=['accuracy']\n",
    ")\n"
   ]
  },
  {
   "cell_type": "markdown",
   "metadata": {
    "id": "aBxBRA9mCjpc"
   },
   "source": [
    "### Fit the model\n"
   ]
  },
  {
   "cell_type": "code",
   "execution_count": null,
   "metadata": {
    "colab": {
     "base_uri": "https://localhost:8080/",
     "height": 721
    },
    "id": "2spxWgNZC0Mu",
    "outputId": "669e6f0a-559e-4bbd-c320-8bb97efb58fa"
   },
   "outputs": [],
   "source": [
    "fine_tuned_epochs = initial_epochs + fine_tune_epochs\n",
    "\n",
    "history_3 = model_3.fit(\n",
    "    test_data,\n",
    "    epochs=fine_tuned_epochs,\n",
    "    steps_per_epoch=len(test_data),\n",
    "    validation_data=validation_data,\n",
    "    validation_steps = len(validation_data),\n",
    "    initial_epoch=history_1.epoch[-1]\n",
    ")\n",
    "\n",
    "compare_histories(history_1, history_3, initial_epochs)"
   ]
  },
  {
   "cell_type": "code",
   "execution_count": null,
   "metadata": {
    "colab": {
     "base_uri": "https://localhost:8080/"
    },
    "id": "2qKGZmeVDScX",
    "outputId": "5f8bdeb8-a7d7-49d4-96cc-923bafb9f5c7"
   },
   "outputs": [],
   "source": [
    "model_3_results = model_3.evaluate(test_data)"
   ]
  },
  {
   "cell_type": "markdown",
   "metadata": {
    "id": "IInnzlbcDsol"
   },
   "source": [
    "# Compare Models"
   ]
  },
  {
   "cell_type": "code",
   "execution_count": null,
   "metadata": {
    "colab": {
     "base_uri": "https://localhost:8080/",
     "height": 143
    },
    "id": "UXMPzS53Dzhq",
    "outputId": "4884d9bc-c0b6-449e-b0bb-52b025654893"
   },
   "outputs": [],
   "source": [
    "import pandas as pd\n",
    "results = [model_1_results , model_2_results, model_3_results]\n",
    "results_pd = pd.DataFrame(results, columns=['loss', 'accuracy'])\n",
    "results_pd"
   ]
  },
  {
   "cell_type": "markdown",
   "metadata": {
    "id": "r3JJZOEPD6gj"
   },
   "source": [
    "# Summary\n",
    "\n",
    "from the start `EfficientNetB0` gave us a very high score with only 30% of the traning data_augmentation\n",
    "\n",
    "`model_3` gives us the best accuracy score with 30 layers of the base model unfrozen and re-fitted on our custom data"
   ]
  },
  {
   "cell_type": "code",
   "execution_count": null,
   "metadata": {
    "colab": {
     "base_uri": "https://localhost:8080/"
    },
    "id": "l82cq5gmEqo2",
    "outputId": "82d67674-8814-4627-e3cf-ee2c465e98db"
   },
   "outputs": [],
   "source": [
    "model_3.summary()"
   ]
  },
  {
   "cell_type": "code",
   "execution_count": null,
   "metadata": {
    "id": "Tofcm2orEr2f"
   },
   "outputs": [],
   "source": [
    "# END"
   ]
  }
 ],
 "metadata": {
  "accelerator": "GPU",
  "colab": {
   "collapsed_sections": [],
   "name": "Copy of vegetables-classification.ipynb",
   "provenance": [],
   "toc_visible": true
  },
  "kernelspec": {
   "display_name": "Python 3 (ipykernel)",
   "language": "python",
   "name": "python3"
  },
  "language_info": {
   "codemirror_mode": {
    "name": "ipython",
    "version": 3
   },
   "file_extension": ".py",
   "mimetype": "text/x-python",
   "name": "python",
   "nbconvert_exporter": "python",
   "pygments_lexer": "ipython3",
   "version": "3.9.12"
  }
 },
 "nbformat": 4,
 "nbformat_minor": 1
}
